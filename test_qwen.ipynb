{
 "cells": [
  {
   "cell_type": "markdown",
   "metadata": {},
   "source": [
    "这个notebook测试量化之后不同版本模型通过ollama在本地运行的情况"
   ]
  },
  {
   "cell_type": "code",
   "execution_count": 1,
   "metadata": {},
   "outputs": [],
   "source": [
    "from langchain_ollama import ChatOllama\n",
    "\n",
    "llm = ChatOllama(\n",
    "    model = \"qwen2_sft:latest\",\n",
    "    temperature = 0.7,\n",
    "    num_predict = 2048,\n",
    ")"
   ]
  },
  {
   "cell_type": "code",
   "execution_count": 2,
   "metadata": {},
   "outputs": [
    {
     "data": {
      "text/plain": [
       "AIMessage(content=' 丹江口水库是中国南水北调中线工程的水源地，也是亚洲最大的人工淡水湖。该水库位于湖北省丹江口市与河南省淅川县之间，由汉江库区和丹江库区组成，控制流域面积达到95,076平方公里。其总库容为290.5亿立方米，正常蓄水位170米时的水面面积约为1050平方公里。水库不仅具有供水功能，还兼有防洪、发电、航运和养殖等多种综合利用效益。', response_metadata={'model': 'qwen2_sft:latest', 'created_at': '2024-09-06T03:12:34.516516723Z', 'message': {'role': 'assistant', 'content': ''}, 'done_reason': 'stop', 'done': True, 'total_duration': 6775600103, 'load_duration': 4407670152, 'prompt_eval_count': 14, 'prompt_eval_duration': 32098000, 'eval_count': 117, 'eval_duration': 2333264000}, id='run-5fb0150a-197b-48a3-871c-ad5683db2c76-0', usage_metadata={'input_tokens': 14, 'output_tokens': 117, 'total_tokens': 131})"
      ]
     },
     "execution_count": 2,
     "metadata": {},
     "output_type": "execute_result"
    }
   ],
   "source": [
    "llm.invoke(\"什么是丹江口水库？\")"
   ]
  },
  {
   "cell_type": "code",
   "execution_count": null,
   "metadata": {},
   "outputs": [],
   "source": []
  },
  {
   "cell_type": "markdown",
   "metadata": {},
   "source": []
  }
 ],
 "metadata": {
  "kernelspec": {
   "display_name": "rag",
   "language": "python",
   "name": "python3"
  },
  "language_info": {
   "codemirror_mode": {
    "name": "ipython",
    "version": 3
   },
   "file_extension": ".py",
   "mimetype": "text/x-python",
   "name": "python",
   "nbconvert_exporter": "python",
   "pygments_lexer": "ipython3",
   "version": "3.10.13"
  }
 },
 "nbformat": 4,
 "nbformat_minor": 2
}
